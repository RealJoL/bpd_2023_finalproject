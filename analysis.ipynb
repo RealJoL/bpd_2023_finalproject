{
 "cells": [
  {
   "cell_type": "code",
   "execution_count": 1,
   "metadata": {},
   "outputs": [],
   "source": [
    "import pandas as pd\n",
    "import sklearn as sk\n",
    "import matplotlib.pyplot as plt"
   ]
  },
  {
   "cell_type": "code",
   "execution_count": 2,
   "metadata": {},
   "outputs": [],
   "source": [
    "db = pd.read_csv(\"capture20110818-2.binetflow\")\n",
    "#db['Sport'] = db['Sport'].astype(int)\n",
    "#db['Dport'] = db['Dport'].astype(int)"
   ]
  },
  {
   "cell_type": "code",
   "execution_count": 3,
   "metadata": {},
   "outputs": [
    {
     "name": "stdout",
     "output_type": "stream",
     "text": [
      "                         StartTime         Dur Proto         SrcAddr  Sport  \\\n",
      "0       2011/08/18 15:39:35.087798   83.062141   tcp   147.32.84.202   1078   \n",
      "1       2011/08/18 15:39:35.087915  497.720459   tcp  88.100.184.137  13121   \n",
      "2       2011/08/18 15:39:35.091007  971.288147   tcp     147.32.84.2     80   \n",
      "3       2011/08/18 15:39:35.091585  899.996399   tcp    90.181.84.58  54518   \n",
      "4       2011/08/18 15:39:35.093493   38.753445   tcp   147.32.86.116  19083   \n",
      "...                            ...         ...   ...             ...    ...   \n",
      "107246  2011/08/18 15:55:46.347093    0.000313   udp    147.32.85.25  57375   \n",
      "107247  2011/08/18 15:55:46.357022    0.000000   udp    147.32.84.59  63550   \n",
      "107248  2011/08/18 15:55:46.357936    0.001958   udp    91.144.30.99  59481   \n",
      "107249  2011/08/18 15:55:46.379560    0.000258   udp    147.32.85.25  57012   \n",
      "107250  2011/08/18 15:55:46.379941    0.000246   udp    147.32.85.25  52134   \n",
      "\n",
      "          Dir        DstAddr  Dport    State  sTos  dTos  TotPkts   TotBytes  \\\n",
      "0         <?>   65.54.89.106     80  RPA_FPA   0.0   0.0    43065   40974671   \n",
      "1         <?>   147.32.85.26  62860   RPA_PA   0.0   0.0   326962  132430976   \n",
      "2         <?>  218.75.208.58   3088     PA_A   0.0   0.0     7912    7356876   \n",
      "3         <?>   147.32.84.19    993    PA_PA   0.0   0.0       48       5728   \n",
      "4          ?>   151.82.9.107   2185     RPA_   0.0   NaN        7        456   \n",
      "...       ...            ...    ...      ...   ...   ...      ...        ...   \n",
      "107246    <->    147.32.80.9     53      CON   0.0   0.0        2        207   \n",
      "107247     ->  110.38.207.12  50613      INT   0.0   NaN        1        145   \n",
      "107248    <->  147.32.84.229  13363      CON   0.0   0.0        2        522   \n",
      "107249    <->    147.32.80.9     53      CON   0.0   0.0        2        208   \n",
      "107250    <->    147.32.80.9     53      CON   0.0   0.0        2        207   \n",
      "\n",
      "        SrcBytes                                   Label  \n",
      "0        1033777                         flow=Background  \n",
      "1        7076046                         flow=Background  \n",
      "2        7153650                         flow=Background  \n",
      "3           3008                         flow=Background  \n",
      "4            456                         flow=Background  \n",
      "...          ...                                     ...  \n",
      "107246        66  flow=To-Background-UDP-CVUT-DNS-Server  \n",
      "107247       145      flow=Background-Attempt-cmpgw-CVUT  \n",
      "107248       462         flow=Background-UDP-Established  \n",
      "107249        79  flow=To-Background-UDP-CVUT-DNS-Server  \n",
      "107250        66  flow=To-Background-UDP-CVUT-DNS-Server  \n",
      "\n",
      "[107251 rows x 15 columns]\n"
     ]
    }
   ],
   "source": [
    "print(db)"
   ]
  },
  {
   "cell_type": "code",
   "execution_count": 4,
   "metadata": {},
   "outputs": [
    {
     "data": {
      "text/plain": [
       "array(['flow=Background', 'flow=Background-Established-cmpgw-CVUT',\n",
       "       'flow=From-Normal-V52-Grill', 'flow=To-Background-Stribrek',\n",
       "       'flow=Background-google-analytics4',\n",
       "       'flow=Background-UDP-Established',\n",
       "       'flow=From-Background-CVUT-Proxy',\n",
       "       'flow=Background-Attempt-cmpgw-CVUT',\n",
       "       'flow=Background-UDP-Attempt',\n",
       "       'flow=To-Background-UDP-CVUT-DNS-Server',\n",
       "       'flow=To-Background-CVUT-Proxy',\n",
       "       'flow=Background-UDP-NTP-Established-1',\n",
       "       'flow=Background-TCP-Established', 'flow=Background-TCP-Attempt',\n",
       "       'flow=Background-ajax.google',\n",
       "       'flow=Background-google-analytics10',\n",
       "       'flow=Background-google-analytics11', 'flow=From-Normal-V52-Jist',\n",
       "       'flow=Background-google-webmail',\n",
       "       'flow=To-Background-CVUT-WebServer',\n",
       "       'flow=Background-google-analytics1',\n",
       "       'flow=From-Normal-V52-Stribrek',\n",
       "       'flow=Background-google-analytics15',\n",
       "       'flow=Background-google-analytics12',\n",
       "       'flow=Background-google-analytics14',\n",
       "       'flow=Background-google-analytics13',\n",
       "       'flow=Background-google-analytics16',\n",
       "       'flow=Background-google-analytics2',\n",
       "       'flow=Background-google-analytics5',\n",
       "       'flow=Background-google-analytics7', 'flow=To-Background-Grill',\n",
       "       'flow=Background-google-analytics3',\n",
       "       'flow=From-Normal-V52-UDP-CVUT-DNS-Server',\n",
       "       'flow=Background-google-analytics8',\n",
       "       'flow=Background-google-analytics6',\n",
       "       'flow=To-Normal-V52-UDP-NTP-server',\n",
       "       'flow=To-Background-MatLab-Server', 'flow=To-Background-Jist',\n",
       "       'flow=Background-google-analytics9',\n",
       "       'flow=Normal-V52-HTTP-windowsupdate', 'flow=Background-google-pop',\n",
       "       'flow=Background-www.fel.cvut.cz',\n",
       "       'flow=From-Botnet-V52-1-UDP-DNS',\n",
       "       'flow=From-Botnet-V52-1-TCP-HTTP-Google-Net-Established-6',\n",
       "       'flow=From-Botnet-V52-1-UDP-Attempt',\n",
       "       'flow=From-Botnet-V52-2-UDP-DNS',\n",
       "       'flow=From-Botnet-V52-2-TCP-HTTP-Google-Net-Established-6',\n",
       "       'flow=From-Normal-V52-CVUT-WebServer',\n",
       "       'flow=From-Botnet-V52-3-UDP-DNS',\n",
       "       'flow=From-Botnet-V52-2-UDP-Attempt',\n",
       "       'flow=From-Botnet-V52-3-TCP-HTTP-Google-Net-Established-6',\n",
       "       'flow=From-Botnet-V52-3-UDP-Attempt',\n",
       "       'flow=From-Botnet-V52-3-TCP-CC106-IRC-Not-Encrypted',\n",
       "       'flow=From-Botnet-V52-1-TCP-Established',\n",
       "       'flow=From-Botnet-V52-2-TCP-CC106-IRC-Not-Encrypted',\n",
       "       'flow=From-Normal-V52-MatLab-Server',\n",
       "       'flow=From-Botnet-V52-2-ICMP', 'flow=From-Botnet-V52-1-ICMP'],\n",
       "      dtype=object)"
      ]
     },
     "execution_count": 4,
     "metadata": {},
     "output_type": "execute_result"
    }
   ],
   "source": [
    "db['Label'].unique()"
   ]
  },
  {
   "cell_type": "code",
   "execution_count": 5,
   "metadata": {},
   "outputs": [],
   "source": [
    "malicious = list(filter(lambda x: \"Botnet\" in x, db['Label'].unique()))"
   ]
  },
  {
   "cell_type": "code",
   "execution_count": 6,
   "metadata": {},
   "outputs": [
    {
     "name": "stdout",
     "output_type": "stream",
     "text": [
      "['flow=From-Botnet-V52-1-UDP-DNS', 'flow=From-Botnet-V52-1-TCP-HTTP-Google-Net-Established-6', 'flow=From-Botnet-V52-1-UDP-Attempt', 'flow=From-Botnet-V52-2-UDP-DNS', 'flow=From-Botnet-V52-2-TCP-HTTP-Google-Net-Established-6', 'flow=From-Botnet-V52-3-UDP-DNS', 'flow=From-Botnet-V52-2-UDP-Attempt', 'flow=From-Botnet-V52-3-TCP-HTTP-Google-Net-Established-6', 'flow=From-Botnet-V52-3-UDP-Attempt', 'flow=From-Botnet-V52-3-TCP-CC106-IRC-Not-Encrypted', 'flow=From-Botnet-V52-1-TCP-Established', 'flow=From-Botnet-V52-2-TCP-CC106-IRC-Not-Encrypted', 'flow=From-Botnet-V52-2-ICMP', 'flow=From-Botnet-V52-1-ICMP']\n"
     ]
    }
   ],
   "source": [
    "print(malicious)"
   ]
  },
  {
   "cell_type": "code",
   "execution_count": 7,
   "metadata": {},
   "outputs": [
    {
     "data": {
      "text/html": [
       "<div>\n",
       "<style scoped>\n",
       "    .dataframe tbody tr th:only-of-type {\n",
       "        vertical-align: middle;\n",
       "    }\n",
       "\n",
       "    .dataframe tbody tr th {\n",
       "        vertical-align: top;\n",
       "    }\n",
       "\n",
       "    .dataframe thead th {\n",
       "        text-align: right;\n",
       "    }\n",
       "</style>\n",
       "<table border=\"1\" class=\"dataframe\">\n",
       "  <thead>\n",
       "    <tr style=\"text-align: right;\">\n",
       "      <th></th>\n",
       "      <th>StartTime</th>\n",
       "      <th>Dur</th>\n",
       "      <th>Proto</th>\n",
       "      <th>SrcAddr</th>\n",
       "      <th>Sport</th>\n",
       "      <th>Dir</th>\n",
       "      <th>DstAddr</th>\n",
       "      <th>Dport</th>\n",
       "      <th>State</th>\n",
       "      <th>sTos</th>\n",
       "      <th>dTos</th>\n",
       "      <th>TotPkts</th>\n",
       "      <th>TotBytes</th>\n",
       "      <th>SrcBytes</th>\n",
       "      <th>Label</th>\n",
       "    </tr>\n",
       "  </thead>\n",
       "  <tbody>\n",
       "    <tr>\n",
       "      <th>53987</th>\n",
       "      <td>2011/08/18 15:47:57.983212</td>\n",
       "      <td>0.000197</td>\n",
       "      <td>udp</td>\n",
       "      <td>147.32.84.165</td>\n",
       "      <td>1025</td>\n",
       "      <td>&lt;-&gt;</td>\n",
       "      <td>147.32.80.9</td>\n",
       "      <td>53</td>\n",
       "      <td>CON</td>\n",
       "      <td>0.0</td>\n",
       "      <td>0.0</td>\n",
       "      <td>2</td>\n",
       "      <td>203</td>\n",
       "      <td>64</td>\n",
       "      <td>flow=From-Botnet-V52-1-UDP-DNS</td>\n",
       "    </tr>\n",
       "    <tr>\n",
       "      <th>54222</th>\n",
       "      <td>2011/08/18 15:48:00.231242</td>\n",
       "      <td>0.020501</td>\n",
       "      <td>udp</td>\n",
       "      <td>147.32.84.165</td>\n",
       "      <td>1025</td>\n",
       "      <td>&lt;-&gt;</td>\n",
       "      <td>147.32.80.9</td>\n",
       "      <td>53</td>\n",
       "      <td>CON</td>\n",
       "      <td>0.0</td>\n",
       "      <td>0.0</td>\n",
       "      <td>2</td>\n",
       "      <td>590</td>\n",
       "      <td>87</td>\n",
       "      <td>flow=From-Botnet-V52-1-UDP-DNS</td>\n",
       "    </tr>\n",
       "    <tr>\n",
       "      <th>54225</th>\n",
       "      <td>2011/08/18 15:48:00.252763</td>\n",
       "      <td>0.036866</td>\n",
       "      <td>tcp</td>\n",
       "      <td>147.32.84.165</td>\n",
       "      <td>1027</td>\n",
       "      <td>-&gt;</td>\n",
       "      <td>74.125.232.201</td>\n",
       "      <td>80</td>\n",
       "      <td>SRPA_SPA</td>\n",
       "      <td>0.0</td>\n",
       "      <td>0.0</td>\n",
       "      <td>7</td>\n",
       "      <td>882</td>\n",
       "      <td>629</td>\n",
       "      <td>flow=From-Botnet-V52-1-TCP-HTTP-Google-Net-Est...</td>\n",
       "    </tr>\n",
       "    <tr>\n",
       "      <th>54485</th>\n",
       "      <td>2011/08/18 15:48:02.467929</td>\n",
       "      <td>0.000668</td>\n",
       "      <td>udp</td>\n",
       "      <td>147.32.84.165</td>\n",
       "      <td>1025</td>\n",
       "      <td>&lt;-&gt;</td>\n",
       "      <td>147.32.80.9</td>\n",
       "      <td>53</td>\n",
       "      <td>CON</td>\n",
       "      <td>0.0</td>\n",
       "      <td>0.0</td>\n",
       "      <td>2</td>\n",
       "      <td>479</td>\n",
       "      <td>76</td>\n",
       "      <td>flow=From-Botnet-V52-1-UDP-DNS</td>\n",
       "    </tr>\n",
       "    <tr>\n",
       "      <th>54486</th>\n",
       "      <td>2011/08/18 15:48:02.477619</td>\n",
       "      <td>3.012514</td>\n",
       "      <td>udp</td>\n",
       "      <td>147.32.84.165</td>\n",
       "      <td>123</td>\n",
       "      <td>-&gt;</td>\n",
       "      <td>65.55.56.40</td>\n",
       "      <td>123</td>\n",
       "      <td>INT</td>\n",
       "      <td>0.0</td>\n",
       "      <td>NaN</td>\n",
       "      <td>2</td>\n",
       "      <td>180</td>\n",
       "      <td>180</td>\n",
       "      <td>flow=From-Botnet-V52-1-UDP-Attempt</td>\n",
       "    </tr>\n",
       "    <tr>\n",
       "      <th>...</th>\n",
       "      <td>...</td>\n",
       "      <td>...</td>\n",
       "      <td>...</td>\n",
       "      <td>...</td>\n",
       "      <td>...</td>\n",
       "      <td>...</td>\n",
       "      <td>...</td>\n",
       "      <td>...</td>\n",
       "      <td>...</td>\n",
       "      <td>...</td>\n",
       "      <td>...</td>\n",
       "      <td>...</td>\n",
       "      <td>...</td>\n",
       "      <td>...</td>\n",
       "      <td>...</td>\n",
       "    </tr>\n",
       "    <tr>\n",
       "      <th>102053</th>\n",
       "      <td>2011/08/18 15:54:55.589358</td>\n",
       "      <td>0.000000</td>\n",
       "      <td>icmp</td>\n",
       "      <td>147.32.84.165</td>\n",
       "      <td>0x75a4</td>\n",
       "      <td>-&gt;</td>\n",
       "      <td>147.32.96.69</td>\n",
       "      <td>NaN</td>\n",
       "      <td>UNK</td>\n",
       "      <td>0.0</td>\n",
       "      <td>NaN</td>\n",
       "      <td>1</td>\n",
       "      <td>1066</td>\n",
       "      <td>1066</td>\n",
       "      <td>flow=From-Botnet-V52-1-ICMP</td>\n",
       "    </tr>\n",
       "    <tr>\n",
       "      <th>102054</th>\n",
       "      <td>2011/08/18 15:54:55.589534</td>\n",
       "      <td>0.000000</td>\n",
       "      <td>icmp</td>\n",
       "      <td>147.32.84.165</td>\n",
       "      <td>0xf88e</td>\n",
       "      <td>-&gt;</td>\n",
       "      <td>147.32.96.69</td>\n",
       "      <td>NaN</td>\n",
       "      <td>UNK</td>\n",
       "      <td>0.0</td>\n",
       "      <td>NaN</td>\n",
       "      <td>1</td>\n",
       "      <td>1066</td>\n",
       "      <td>1066</td>\n",
       "      <td>flow=From-Botnet-V52-1-ICMP</td>\n",
       "    </tr>\n",
       "    <tr>\n",
       "      <th>102055</th>\n",
       "      <td>2011/08/18 15:54:55.591005</td>\n",
       "      <td>0.000000</td>\n",
       "      <td>icmp</td>\n",
       "      <td>147.32.84.165</td>\n",
       "      <td>0x903f</td>\n",
       "      <td>-&gt;</td>\n",
       "      <td>147.32.96.69</td>\n",
       "      <td>NaN</td>\n",
       "      <td>UNK</td>\n",
       "      <td>0.0</td>\n",
       "      <td>NaN</td>\n",
       "      <td>1</td>\n",
       "      <td>1066</td>\n",
       "      <td>1066</td>\n",
       "      <td>flow=From-Botnet-V52-1-ICMP</td>\n",
       "    </tr>\n",
       "    <tr>\n",
       "      <th>102057</th>\n",
       "      <td>2011/08/18 15:54:55.591947</td>\n",
       "      <td>0.000000</td>\n",
       "      <td>icmp</td>\n",
       "      <td>147.32.84.165</td>\n",
       "      <td>0x0744</td>\n",
       "      <td>-&gt;</td>\n",
       "      <td>147.32.96.69</td>\n",
       "      <td>NaN</td>\n",
       "      <td>UNK</td>\n",
       "      <td>0.0</td>\n",
       "      <td>NaN</td>\n",
       "      <td>1</td>\n",
       "      <td>1066</td>\n",
       "      <td>1066</td>\n",
       "      <td>flow=From-Botnet-V52-1-ICMP</td>\n",
       "    </tr>\n",
       "    <tr>\n",
       "      <th>102058</th>\n",
       "      <td>2011/08/18 15:54:55.600191</td>\n",
       "      <td>0.000000</td>\n",
       "      <td>icmp</td>\n",
       "      <td>147.32.84.165</td>\n",
       "      <td>0x08e4</td>\n",
       "      <td>-&gt;</td>\n",
       "      <td>147.32.96.69</td>\n",
       "      <td>NaN</td>\n",
       "      <td>UNK</td>\n",
       "      <td>0.0</td>\n",
       "      <td>NaN</td>\n",
       "      <td>1</td>\n",
       "      <td>1066</td>\n",
       "      <td>1066</td>\n",
       "      <td>flow=From-Botnet-V52-1-ICMP</td>\n",
       "    </tr>\n",
       "  </tbody>\n",
       "</table>\n",
       "<p>8164 rows × 15 columns</p>\n",
       "</div>"
      ],
      "text/plain": [
       "                         StartTime       Dur Proto        SrcAddr   Sport  \\\n",
       "53987   2011/08/18 15:47:57.983212  0.000197   udp  147.32.84.165    1025   \n",
       "54222   2011/08/18 15:48:00.231242  0.020501   udp  147.32.84.165    1025   \n",
       "54225   2011/08/18 15:48:00.252763  0.036866   tcp  147.32.84.165    1027   \n",
       "54485   2011/08/18 15:48:02.467929  0.000668   udp  147.32.84.165    1025   \n",
       "54486   2011/08/18 15:48:02.477619  3.012514   udp  147.32.84.165     123   \n",
       "...                            ...       ...   ...            ...     ...   \n",
       "102053  2011/08/18 15:54:55.589358  0.000000  icmp  147.32.84.165  0x75a4   \n",
       "102054  2011/08/18 15:54:55.589534  0.000000  icmp  147.32.84.165  0xf88e   \n",
       "102055  2011/08/18 15:54:55.591005  0.000000  icmp  147.32.84.165  0x903f   \n",
       "102057  2011/08/18 15:54:55.591947  0.000000  icmp  147.32.84.165  0x0744   \n",
       "102058  2011/08/18 15:54:55.600191  0.000000  icmp  147.32.84.165  0x08e4   \n",
       "\n",
       "          Dir         DstAddr Dport     State  sTos  dTos  TotPkts  TotBytes  \\\n",
       "53987     <->     147.32.80.9    53       CON   0.0   0.0        2       203   \n",
       "54222     <->     147.32.80.9    53       CON   0.0   0.0        2       590   \n",
       "54225      ->  74.125.232.201    80  SRPA_SPA   0.0   0.0        7       882   \n",
       "54485     <->     147.32.80.9    53       CON   0.0   0.0        2       479   \n",
       "54486      ->     65.55.56.40   123       INT   0.0   NaN        2       180   \n",
       "...       ...             ...   ...       ...   ...   ...      ...       ...   \n",
       "102053     ->    147.32.96.69   NaN       UNK   0.0   NaN        1      1066   \n",
       "102054     ->    147.32.96.69   NaN       UNK   0.0   NaN        1      1066   \n",
       "102055     ->    147.32.96.69   NaN       UNK   0.0   NaN        1      1066   \n",
       "102057     ->    147.32.96.69   NaN       UNK   0.0   NaN        1      1066   \n",
       "102058     ->    147.32.96.69   NaN       UNK   0.0   NaN        1      1066   \n",
       "\n",
       "        SrcBytes                                              Label  \n",
       "53987         64                     flow=From-Botnet-V52-1-UDP-DNS  \n",
       "54222         87                     flow=From-Botnet-V52-1-UDP-DNS  \n",
       "54225        629  flow=From-Botnet-V52-1-TCP-HTTP-Google-Net-Est...  \n",
       "54485         76                     flow=From-Botnet-V52-1-UDP-DNS  \n",
       "54486        180                 flow=From-Botnet-V52-1-UDP-Attempt  \n",
       "...          ...                                                ...  \n",
       "102053      1066                        flow=From-Botnet-V52-1-ICMP  \n",
       "102054      1066                        flow=From-Botnet-V52-1-ICMP  \n",
       "102055      1066                        flow=From-Botnet-V52-1-ICMP  \n",
       "102057      1066                        flow=From-Botnet-V52-1-ICMP  \n",
       "102058      1066                        flow=From-Botnet-V52-1-ICMP  \n",
       "\n",
       "[8164 rows x 15 columns]"
      ]
     },
     "execution_count": 7,
     "metadata": {},
     "output_type": "execute_result"
    }
   ],
   "source": [
    "all_bad_db = db[db[\"Label\"].isin(malicious)]\n",
    "all_good_db = db[~ db[\"Label\"].isin(malicious)]\n",
    "all_bad_db"
   ]
  },
  {
   "cell_type": "code",
   "execution_count": 8,
   "metadata": {
    "pycharm": {
     "is_executing": true
    }
   },
   "outputs": [
    {
     "data": {
      "image/png": "[encoded data removed]",
      "text/plain": [
       "<Figure size 2160x288 with 1 Axes>"
      ]
     },
     "metadata": {
      "needs_background": "light"
     },
     "output_type": "display_data"
    }
   ],
   "source": [
    "plt.figure();\n",
    "\n",
    "#all_bad_db['Dport'].plot(kind=\"bar\");\n",
    "#all_bad_db['Dport'].count()#.plot(kind='bar')\n",
    "#all_bad_db['Dport'].value_counts().plot.hist(bins= 3000,rwidth=None, color='#607c8e', stacked=True)\n",
    "ax = all_bad_db['Dport'].value_counts().plot(kind='bar',\n",
    "figsize=(30, 4),\n",
    " #                                        title=title,\n",
    " #                                        color=[c.values]\n",
    "                                    )"
   ]
  },
  {
   "cell_type": "code",
   "execution_count": 9,
   "metadata": {},
   "outputs": [
    {
     "data": {
      "text/plain": [
       "53        12\n",
       "6667       3\n",
       "80         3\n",
       "123        3\n",
       "0x004f     2\n",
       "          ..\n",
       "0x00ca     2\n",
       "0x00e1     2\n",
       "0x005d     2\n",
       "0x00c4     2\n",
       "0x0041     2\n",
       "Name: Dport, Length: 244, dtype: int64"
      ]
     },
     "execution_count": 9,
     "metadata": {},
     "output_type": "execute_result"
    }
   ],
   "source": [
    "all_bad_db['Dport'].value_counts()"
   ]
  },
  {
   "cell_type": "code",
   "execution_count": 10,
   "metadata": {},
   "outputs": [
    {
     "data": {
      "text/plain": [
       "147.32.84.165    4151\n",
       "147.32.84.191    4006\n",
       "147.32.84.192       7\n",
       "Name: SrcAddr, dtype: int64"
      ]
     },
     "execution_count": 10,
     "metadata": {},
     "output_type": "execute_result"
    }
   ],
   "source": [
    "all_bad_db['SrcAddr'].value_counts()"
   ]
  },
  {
   "cell_type": "code",
   "execution_count": 11,
   "metadata": {},
   "outputs": [
    {
     "data": {
      "text/plain": [
       "  <->    71221\n",
       "   ->    24704\n",
       "  <?>     2030\n",
       "  <-       806\n",
       "   ?>      270\n",
       "  who       56\n",
       "Name: Dir, dtype: int64"
      ]
     },
     "execution_count": 11,
     "metadata": {},
     "output_type": "execute_result"
    }
   ],
   "source": [
    "all_good_db['Dir'].value_counts()"
   ]
  },
  {
   "cell_type": "code",
   "execution_count": 12,
   "metadata": {},
   "outputs": [
    {
     "data": {
      "text/plain": [
       "icmp    8143\n",
       "udp       15\n",
       "tcp        6\n",
       "Name: Proto, dtype: int64"
      ]
     },
     "execution_count": 12,
     "metadata": {},
     "output_type": "execute_result"
    }
   ],
   "source": [
    "all_bad_db['Proto'].value_counts()"
   ]
  },
  {
   "cell_type": "code",
   "execution_count": 13,
   "metadata": {},
   "outputs": [
    {
     "data": {
      "image/png": "[encoded data removed]",
      "text/plain": [
       "<Figure size 432x288 with 1 Axes>"
      ]
     },
     "metadata": {},
     "output_type": "display_data"
    }
   ],
   "source": [
    "#protocol which labled as botnet\n",
    "#8164\n",
    "# Pie chart, where the slices will be ordered and plotted counter-clockwise:\n",
    "labels = 'icmp', 'udp', 'tcp'\n",
    "sizes = [8143/8164, 15/8164, 6/8164]\n",
    "explode = (0, 0.1, 0.1)  # only \"explode\" the 2nd slice (i.e. 'Hogs')\n",
    "\n",
    "fig1, ax1 = plt.subplots()\n",
    "ax1.pie(sizes, explode=explode, labels=labels, autopct='%1.1f%%',\n",
    "        shadow=True, startangle=90)\n",
    "ax1.axis('equal')  # Equal aspect ratio ensures that pie is drawn as a circle.\n",
    "\n",
    "plt.show()"
   ]
  },
  {
   "cell_type": "code",
   "execution_count": 83,
   "metadata": {},
   "outputs": [],
   "source": [
    "dbFrame = pd.read_csv(\"timeframeOfAttack.binetflow\")"
   ]
  },
  {
   "cell_type": "code",
   "execution_count": 95,
   "metadata": {},
   "outputs": [
    {
     "name": "stdout",
     "output_type": "stream",
     "text": [
      "0    1900-01-01 15:48:00.005194\n",
      "1    1900-01-01 15:48:00.005660\n",
      "2    1900-01-01 15:48:00.020767\n",
      "3    1900-01-01 15:48:00.040807\n",
      "4    1900-01-01 15:48:00.078666\n",
      "                ...            \n",
      "94   1900-01-01 15:48:00.530532\n",
      "95   1900-01-01 15:48:00.533094\n",
      "96   1900-01-01 15:48:00.541256\n",
      "97   1900-01-01 15:48:00.550498\n",
      "98   1900-01-01 15:48:00.555237\n",
      "Name: StartTime, Length: 99, dtype: datetime64[ns]\n"
     ]
    },
    {
     "name": "stderr",
     "output_type": "stream",
     "text": [
      "/var/folders/7d/znvlxjq50rg2jt7bvbnx_n1m0000gn/T/ipykernel_86756/3211839175.py:18: SettingWithCopyWarning: \n",
      "A value is trying to be set on a copy of a slice from a DataFrame\n",
      "\n",
      "See the caveats in the documentation: https://pandas.pydata.org/pandas-docs/stable/user_guide/indexing.html#returning-a-view-versus-a-copy\n",
      "  dbFrame['StartTime'][index] = s\n"
     ]
    }
   ],
   "source": [
    "#   Preparing Data for plotting\n",
    "#   Format: %H:%M:%S.%f\n",
    "#   Ex:     15:48:00.005194\n",
    "\n",
    "#  packed size shown in a timeline\n",
    "\n",
    "dbFrame = pd.read_csv(\"timeframeOfAttack.binetflow\")\n",
    "# computes avg packed size per milisecond\n",
    "\n",
    "dbFrame['StartTime'] = dbFrame['StartTime'].str.split()\n",
    "\n",
    "dbFrame = dbFrame.reset_index()  # make sure indexes pair with number of rows\n",
    "\n",
    "for index, row in dbFrame.iterrows():\n",
    "    \n",
    "    dbFrame['StartTime'][index].pop(0)\n",
    "    s = ''.join(str(x) for x in dbFrame['StartTime'][index])\n",
    "    dbFrame['StartTime'][index] = s\n",
    "\n",
    "dbFrame['StartTime'] = pd.to_datetime(dbFrame['StartTime'], format=\"%H:%M:%S.%f\")\n",
    "\n",
    "print(dbFrame['StartTime'])"
   ]
  },
  {
   "cell_type": "code",
   "execution_count": 85,
   "metadata": {},
   "outputs": [
    {
     "data": {
      "image/png": "[encoded data removed]",
      "text/plain": [
       "<Figure size 432x288 with 1 Axes>"
      ]
     },
     "metadata": {
      "needs_background": "light"
     },
     "output_type": "display_data"
    }
   ],
   "source": [
    "import matplotlib.dates as md\n",
    "import dateutil\n",
    "\n",
    "db1 = dbFrame['StartTime']\n",
    "\n",
    "db2 = dbFrame['SrcBytes']\n",
    "\n",
    "result = pd.concat([db1, db2], axis=1, join='inner')\n",
    "#display(result)\n",
    "plt_data = range(5,9)\n",
    "plt.subplots_adjust(bottom=0.2)\n",
    "plt.xticks( rotation=25 )\n",
    "\n",
    "ax=plt.gca()\n",
    "#ax.set_xticks(db1)\n",
    "\n",
    "\n",
    "xfmt = md.DateFormatter('%H:%M:%S.%f')\n",
    "ax.xaxis.set_major_formatter(xfmt)\n",
    "\n",
    "ax.tick_params(colors='black', which='both')\n",
    "\n",
    "ax.xaxis.label.set_color('black')\n",
    "ax.yaxis.label.set_color('black')\n",
    "\n",
    "plt.plot(db1,db2)\n",
    "plt.plot(db1[30],db2[30], \"o-\", label=\"D Dos Atack\")\n",
    "\n",
    "plt.annotate(db2[30], (db1[30],db2[30]))\n",
    "\n",
    "plt.legend(loc=\"upper left\")\n",
    "\n",
    "plt.xlabel('Time (mSec)')\n",
    "plt.ylabel('Packet Size (bytes)')\n",
    "\n",
    "plt.show()"
   ]
  },
  {
   "cell_type": "code",
   "execution_count": 86,
   "metadata": {},
   "outputs": [
    {
     "name": "stdout",
     "output_type": "stream",
     "text": [
      "0\n"
     ]
    }
   ],
   "source": [
    "dbMin = dbFrame['SrcBytes'].min()\n",
    "print(dbMin)"
   ]
  },
  {
   "cell_type": "code",
   "execution_count": 100,
   "metadata": {},
   "outputs": [
    {
     "name": "stdout",
     "output_type": "stream",
     "text": [
      "                    StartTime     SrcBytes\n",
      "0  1900-01-01 15:48:00.005194  1576.075023\n",
      "1  1900-01-01 15:48:00.005660  1773.015005\n",
      "2  1900-01-01 15:48:00.020767  1173.403001\n",
      "3  1900-01-01 15:48:00.040807   382.680600\n",
      "4  1900-01-01 15:48:00.078666   173.136120\n",
      "..                        ...          ...\n",
      "94 1900-01-01 15:48:00.530532   859.447108\n",
      "95 1900-01-01 15:48:00.533094   171.889422\n",
      "96 1900-01-01 15:48:00.541256    34.377884\n",
      "97 1900-01-01 15:48:00.550498     6.875577\n",
      "98 1900-01-01 15:48:00.555237     1.375115\n",
      "\n",
      "[99 rows x 2 columns]\n"
     ]
    },
    {
     "name": "stderr",
     "output_type": "stream",
     "text": [
      "/var/folders/7d/znvlxjq50rg2jt7bvbnx_n1m0000gn/T/ipykernel_86756/3033586959.py:15: SettingWithCopyWarning: \n",
      "A value is trying to be set on a copy of a slice from a DataFrame\n",
      "\n",
      "See the caveats in the documentation: https://pandas.pydata.org/pandas-docs/stable/user_guide/indexing.html#returning-a-view-versus-a-copy\n",
      "  dbFrame['StartTime'][index] = s\n"
     ]
    }
   ],
   "source": [
    "# average packet size in the timeframe of a DDos-attack\n",
    "\n",
    "dbFrame = pd.read_csv(\"timeframeOfAttack.binetflow\")\n",
    "\n",
    "dbFrame['StartTime'] = dbFrame['StartTime'].str.split()\n",
    "\n",
    "dbFrame = dbFrame.reset_index()  # make sure indexes pair with number of rows\n",
    "\n",
    "for index, row in dbFrame.iterrows():\n",
    "    \n",
    "    dbFrame['StartTime'][index].pop(0)\n",
    "    s = ''.join(str(x) for x in dbFrame['StartTime'][index])\n",
    "    dbFrame['StartTime'][index] = s\n",
    "\n",
    "dbFrame['StartTime'] = pd.to_datetime(dbFrame['StartTime'], format=\"%H:%M:%S.%f\")\n",
    "\n",
    "# creating new data frame\n",
    "dbAvg = pd.DataFrame(columns=['StartTime', 'SrcBytes'])\n",
    "\n",
    "dbFrame = dbFrame.reset_index()\n",
    "\n",
    "for index, row in dbFrame.iterrows():\n",
    "    #df = df.reset_index(drop=True)\n",
    "    if index < 95:\n",
    "        flows = [dbFrame['SrcBytes'][index],dbFrame['SrcBytes'][index+1],dbFrame['SrcBytes'][index+2],dbFrame['SrcBytes'][index+3],dbFrame['SrcBytes'][index+4]]\n",
    "            #accumulate every 5 rows in packet size\n",
    "        for x in flows:\n",
    "            avgPacketSize += x  \n",
    "    #compute avg\n",
    "    avgPacketSize = avgPacketSize/5\n",
    "\n",
    "    dbAvg.loc[len(dbAvg.index)] = [dbFrame['StartTime'][index],avgPacketSize]\n",
    "\n",
    "\n",
    "    index += 4\n",
    "\n",
    "#dbAvg = dbFrame['SrcBytes'].mean()\n",
    "print(dbAvg)"
   ]
  },
  {
   "cell_type": "code",
   "execution_count": 99,
   "metadata": {},
   "outputs": [
    {
     "data": {
      "image/png": "[encoded data removed]",
      "text/plain": [
       "<Figure size 432x288 with 1 Axes>"
      ]
     },
     "metadata": {
      "needs_background": "light"
     },
     "output_type": "display_data"
    }
   ],
   "source": [
    "import matplotlib.dates as md\n",
    "import dateutil\n",
    "\n",
    " \n",
    "plt_data = range(5,9)\n",
    "plt.subplots_adjust(bottom=0.2)\n",
    "plt.xticks( rotation=25 )\n",
    "\n",
    "ax=plt.gca()\n",
    "#ax.set_xticks(db1)\n",
    "\n",
    "\n",
    "xfmt = md.DateFormatter('%H:%M:%S.%f')\n",
    "ax.xaxis.set_major_formatter(xfmt)\n",
    "\n",
    "ax.tick_params(colors='black', which='both')\n",
    "\n",
    "ax.xaxis.label.set_color('black')\n",
    "ax.yaxis.label.set_color('black')\n",
    "\n",
    "plt.plot(dbAvg[\"StartTime\"],dbAvg[\"SrcBytes\"])\n",
    "plt.plot(dbAvg[\"StartTime\"][30],dbAvg[\"SrcBytes\"][30], \"o-\", label=\"D Dos Atack\")\n",
    "\n",
    "#plt.annotate(dbAvg[\"SrcBytes\"][30], dbAvg[\"StartTime\"][30],dbAvg[\"SrcBytes\"][30])\n",
    "plt.legend(loc=\"upper left\")\n",
    "\n",
    "plt.xlabel('Time (mSec)')\n",
    "plt.ylabel('Average Packet Size of five Flows (bytes)')\n",
    "\n",
    "plt.show()"
   ]
  }
 ],
 "metadata": {
  "kernelspec": {
   "display_name": "Python 3",
   "language": "python",
   "name": "python3"
  },
  "language_info": {
   "codemirror_mode": {
    "name": "ipython",
    "version": 3
   },
   "file_extension": ".py",
   "mimetype": "text/x-python",
   "name": "python",
   "nbconvert_exporter": "python",
   "pygments_lexer": "ipython3",
   "version": "3.10.5"
  },
  "vscode": {
   "interpreter": {
    "hash": "aee8b7b246df8f9039afb4144a1f6fd8d2ca17a180786b69acc140d282b71a49"
   }
  }
 },
 "nbformat": 4,
 "nbformat_minor": 1
}
