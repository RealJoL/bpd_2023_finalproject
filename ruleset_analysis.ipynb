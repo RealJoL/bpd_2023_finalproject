{
 "cells": [
  {
   "cell_type": "code",
   "execution_count": 1,
   "metadata": {
    "collapsed": true
   },
   "outputs": [],
   "source": [
    "import pandas as pd\n",
    "import matplotlib.pyplot as plt\n",
    "import json"
   ]
  },
  {
   "cell_type": "code",
   "execution_count": 2,
   "outputs": [],
   "source": [
    "json_file_path = \"./output/encoding_d7-204252.json\"\n",
    "\n",
    "with open(json_file_path, 'r') as j:\n",
    "    contents = json.loads(j.read())"
   ],
   "metadata": {
    "collapsed": false
   }
  },
  {
   "cell_type": "code",
   "execution_count": 3,
   "outputs": [
    {
     "data": {
      "text/plain": "{'Proto': {'10': 'tcp',\n  '11': 'udp',\n  '1': 'icmp',\n  '0': 'arp',\n  '9': 'rtp',\n  '5': 'ipx/spx',\n  '8': 'rtcp',\n  '3': 'ipv6',\n  '6': 'pim',\n  '2': 'igmp',\n  '12': 'udt',\n  '7': 'rarp',\n  '4': 'ipv6-icmp'},\n 'Dir': {'4': '  <?>',\n  '1': '   ?>',\n  '3': '  <->',\n  '0': '   ->',\n  '5': '  who',\n  '2': '  <-'},\n 'State': {'106': 'RPA_FPA',\n  '108': 'RPA_PA',\n  '89': 'PA_A',\n  '92': 'PA_PA',\n  '105': 'RPA_',\n  '102': 'RA_PA',\n  '34': 'FRA_PA',\n  '4': 'CON',\n  '95': 'PA_RPA',\n  '19': 'FPA_FA',\n  '12': 'FA_FA',\n  '74': 'INT',\n  '20': 'FPA_FPA',\n  '11': 'FA_A',\n  '94': 'PA_RA',\n  '15': 'FA_R',\n  '101': 'RA_FPA',\n  '170': 'URP',\n  '3': 'A_PA',\n  '164': 'URH',\n  '52': 'FSPA_FSPA',\n  '154': 'S_RA',\n  '103': 'RED',\n  '91': 'PA_FRPA',\n  '13': 'FA_FPA',\n  '107': 'RPA_FSRPA',\n  '38': 'FRPA_FPA',\n  '54': 'FSPA_FSRPA',\n  '2': 'A_A',\n  '28': 'FRA_',\n  '29': 'FRA_A',\n  '141': 'SRPA_FSPA',\n  '173': '_FSPA',\n  '65': 'FSRPA_FSPA',\n  '142': 'SRPA_FSRPA',\n  '88': 'PA_',\n  '14': 'FA_FRA',\n  '21': 'FPA_FRA',\n  '151': 'S_',\n  '30': 'FRA_FA',\n  '98': 'RA_',\n  '36': 'FRPA_',\n  '10': 'FA_',\n  '9': 'ECR',\n  '27': 'FPA_RPA',\n  '43': 'FSA_FSA',\n  '51': 'FSPA_FSA',\n  '16': 'FA_RA',\n  '25': 'FPA_R',\n  '132': 'SRA_',\n  '18': 'FPA_A',\n  '167': 'URN',\n  '128': 'SPA_SPA',\n  '144': 'SRPA_SPA',\n  '160': 'TXD',\n  '118': 'SA_SA',\n  '117': 'SA_R',\n  '22': 'FPA_FRPA',\n  '69': 'FSRPA_SRPA',\n  '130': 'SPA_SRPA',\n  '44': 'FSA_FSPA',\n  '113': 'SA_',\n  '1': 'A_',\n  '17': 'FPA_',\n  '123': 'SPA_FSPA',\n  '26': 'FPA_RA',\n  '68': 'FSRPA_SPA',\n  '90': 'PA_FPA',\n  '24': 'FPA_PA',\n  '149': 'SR_SA',\n  '39': 'FRPA_FRPA',\n  '32': 'FRA_FPAC',\n  '99': 'RA_A',\n  '155': 'S_SA',\n  '156': 'S_SRA',\n  '174': '_SPA',\n  '53': 'FSPA_FSRA',\n  '163': 'URFIL',\n  '124': 'SPA_FSRA',\n  '129': 'SPA_SRA',\n  '137': 'SRA_SA',\n  '8': 'ECO',\n  '100': 'RA_FA',\n  '67': 'FSRPA_SA',\n  '33': 'FRA_FRA',\n  '56': 'FSPA_SPA',\n  '58': 'FSPA_SRPA',\n  '125': 'SPA_FSRPA',\n  '109': 'RSP',\n  '175': '_SRA',\n  '61': 'FSRPAC_FSPA',\n  '112': 'R_',\n  '62': 'FSRPAC_FSRPA',\n  '165': 'URHPRO',\n  '146': 'SRPA_SRPA',\n  '66': 'FSRPA_FSRPA',\n  '119': 'SA_SRA',\n  '136': 'SRA_RA',\n  '71': 'FS_',\n  '150': 'SR_SRA',\n  '40': 'FRPA_PA',\n  '172': '_FSA',\n  '31': 'FRA_FPA',\n  '93': 'PA_R',\n  '116': 'SA_FSRA',\n  '48': 'FSA_SRA',\n  '59': 'FSRA_FSA',\n  '143': 'SRPA_SA',\n  '37': 'FRPA_FA',\n  '83': 'NNS',\n  '80': 'MRQ',\n  '64': 'FSRPAEC_SPA',\n  '50': 'FSPAEC_FSPA',\n  '63': 'FSRPAEC_FSPA',\n  '131': 'SRAEC_SA',\n  '55': 'FSPA_SA',\n  '45': 'FSA_FSRA',\n  '133': 'SRA_FSA',\n  '148': 'SR_RA',\n  '114': 'SA_FSA',\n  '85': 'NRS',\n  '134': 'SRA_FSPA',\n  '47': 'FSA_SA',\n  '140': 'SRPA_FSA',\n  '35': 'FRA_R',\n  '121': 'SEC_RA',\n  '115': 'SA_FSPA',\n  '139': 'SRPAC_SPA',\n  '147': 'SR_',\n  '145': 'SRPA_SRA',\n  '126': 'SPA_PA',\n  '152': 'S_FRA',\n  '57': 'FSPA_SRA',\n  '41': 'FSA_',\n  '49': 'FSPAC_FSRA',\n  '72': 'FS_SA',\n  '70': 'FSR_SA',\n  '135': 'SRA_FSRA',\n  '60': 'FSRA_FSPA',\n  '158': 'TSR',\n  '81': 'MSR',\n  '76': 'IRR',\n  '153': 'S_R',\n  '127': 'SPA_SA',\n  '42': 'FSA_FPA',\n  '46': 'FSA_PA',\n  '23': 'FPA_FSA',\n  '77': 'MAS',\n  '75': 'IRQ',\n  '110': 'RTA',\n  '104': 'ROB',\n  '171': 'WAY',\n  '161': 'UNK',\n  '111': 'RTS',\n  '159': 'TST',\n  '162': 'UR',\n  '97': 'PTB',\n  '0': 'AHA',\n  '82': 'NNA',\n  '96': 'PHO',\n  '5': 'DCE',\n  '7': 'DNQ',\n  '122': 'SKP',\n  '157': 'TRC',\n  '138': 'SRC',\n  '6': 'DNP',\n  '86': 'NULL',\n  '120': 'SEC',\n  '87': 'PAR',\n  '79': 'MRP',\n  '84': 'NRA',\n  '78': 'MHR',\n  '73': 'IAH',\n  '168': 'URNPRO',\n  '166': 'URHTOS',\n  '169': 'URNU'}}"
     },
     "execution_count": 3,
     "metadata": {},
     "output_type": "execute_result"
    }
   ],
   "source": [
    "contents"
   ],
   "metadata": {
    "collapsed": false
   }
  },
  {
   "cell_type": "code",
   "execution_count": 4,
   "outputs": [],
   "source": [
    "ruleset_df = pd.read_csv(\"./output/ruleset_d7-204252.csv\", index_col=0)\n",
    "flow_df = pd.read_csv(\"capture20110818-2.binetflow\")"
   ],
   "metadata": {
    "collapsed": false
   }
  },
  {
   "cell_type": "code",
   "execution_count": 5,
   "outputs": [],
   "source": [
    "flow_df['Label'].unique()\n",
    "malicious = list(filter(lambda x: \"Botnet\" in x, flow_df['Label'].unique()))\n",
    "\n",
    "all_bad_db = flow_df[flow_df[\"Label\"].isin(malicious)]\n",
    "all_good_db = flow_df[~ flow_df[\"Label\"].isin(malicious)]\n",
    "\n",
    "# Port analysis\n",
    "good_sport_df = pd.DataFrame(all_good_db['Sport'])\n",
    "\n",
    "# Fill Sport for null to 0 and convert to int\n",
    "good_sport_df = pd.DataFrame(good_sport_df['Sport'].fillna(value=\"0\"))\n",
    "good_sport_df = pd.DataFrame(good_sport_df['Sport'].apply(lambda x: int(int(x, 16))))\n"
   ],
   "metadata": {
    "collapsed": false
   }
  },
  {
   "cell_type": "code",
   "execution_count": 6,
   "outputs": [
    {
     "data": {
      "text/plain": "         Sport\n0         4216\n1        78113\n2          128\n3       345368\n4       102531\n...        ...\n107246  357237\n107247  406864\n107248  365697\n107249  356370\n107250  336180\n\n[99087 rows x 1 columns]",
      "text/html": "<div>\n<style scoped>\n    .dataframe tbody tr th:only-of-type {\n        vertical-align: middle;\n    }\n\n    .dataframe tbody tr th {\n        vertical-align: top;\n    }\n\n    .dataframe thead th {\n        text-align: right;\n    }\n</style>\n<table border=\"1\" class=\"dataframe\">\n  <thead>\n    <tr style=\"text-align: right;\">\n      <th></th>\n      <th>Sport</th>\n    </tr>\n  </thead>\n  <tbody>\n    <tr>\n      <th>0</th>\n      <td>4216</td>\n    </tr>\n    <tr>\n      <th>1</th>\n      <td>78113</td>\n    </tr>\n    <tr>\n      <th>2</th>\n      <td>128</td>\n    </tr>\n    <tr>\n      <th>3</th>\n      <td>345368</td>\n    </tr>\n    <tr>\n      <th>4</th>\n      <td>102531</td>\n    </tr>\n    <tr>\n      <th>...</th>\n      <td>...</td>\n    </tr>\n    <tr>\n      <th>107246</th>\n      <td>357237</td>\n    </tr>\n    <tr>\n      <th>107247</th>\n      <td>406864</td>\n    </tr>\n    <tr>\n      <th>107248</th>\n      <td>365697</td>\n    </tr>\n    <tr>\n      <th>107249</th>\n      <td>356370</td>\n    </tr>\n    <tr>\n      <th>107250</th>\n      <td>336180</td>\n    </tr>\n  </tbody>\n</table>\n<p>99087 rows × 1 columns</p>\n</div>"
     },
     "execution_count": 6,
     "metadata": {},
     "output_type": "execute_result"
    }
   ],
   "source": [
    "good_sport_df"
   ],
   "metadata": {
    "collapsed": false
   }
  },
  {
   "cell_type": "code",
   "execution_count": 51,
   "outputs": [
    {
     "data": {
      "text/plain": "<Figure size 864x504 with 1 Axes>",
      "image/png": "[encoded data removed]"
     },
     "metadata": {
      "needs_background": "light"
     },
     "output_type": "display_data"
    }
   ],
   "source": [
    "n_of_ports = 50\n",
    "plt.figure(figsize=(12, 7))\n",
    "\n",
    "freq_good = good_sport_df['Sport'].value_counts()\n",
    "red_freq_good = freq_good[0:n_of_ports]\n",
    "\n",
    "coloured_bars = []\n",
    "nhit_on_freq = {}\n",
    "\n",
    "for _, ruleset in ruleset_df.iterrows():\n",
    "    #print(ruleset)\n",
    "    for port in red_freq_good.index:\n",
    "        if ruleset['Sport_greater'] is None:\n",
    "            continue\n",
    "        if not port in nhit_on_freq.keys():\n",
    "            nhit_on_freq[port] = 0\n",
    "        if ruleset['Sport_greater']:\n",
    "            if port > ruleset['Sport_threshold']:\n",
    "                nhit_on_freq[port] += 1\n",
    "        if not ruleset['Sport_greater']:\n",
    "            if port > ruleset['Sport_threshold']:\n",
    "                nhit_on_freq[port] += 1\n",
    "\n",
    "#TODO In the future, distinguish by number of hits\n",
    "\n",
    "for k in nhit_on_freq.keys():\n",
    "    if nhit_on_freq[k] > 0:\n",
    "        coloured_bars.append(k)\n",
    "\n",
    "profit_color = [{f in coloured_bars: 'red', f not in coloured_bars: 'blue'}[True] for f in red_freq_good.index]\n",
    "\n",
    "bar_plot = red_freq_good.plot.bar(color=profit_color)\n",
    "plt.show()"
   ],
   "metadata": {
    "collapsed": false
   }
  },
  {
   "cell_type": "code",
   "execution_count": 37,
   "outputs": [
    {
     "data": {
      "text/plain": "{78691: 10,\n 102531: 10,\n 8: 10,\n 771: 10,\n 406864: 10,\n 102785: 10,\n 0: 0,\n 102801: 10,\n 140802: 10,\n 128: 10,\n 152343: 10,\n 362628: 10,\n 338326: 10,\n 291: 10,\n 259: 10,\n 332884: 10,\n 102787: 10,\n 1091: 10,\n 398869: 10,\n 26753: 10,\n 274567: 10,\n 213081: 10,\n 261: 10,\n 395108: 10,\n 79496: 10,\n 100612: 10,\n 102726: 10,\n 5699: 10,\n 103576: 10,\n 365425: 10,\n 226866: 10,\n 234353: 10,\n 1063: 10,\n 137303: 10,\n 221510: 10,\n 362101: 10,\n 140820: 10,\n 67942: 10,\n 4132: 10,\n 25125: 10,\n 2451: 10,\n 394328: 10,\n 208947: 10,\n 217672: 10,\n 229429: 10,\n 397424: 10,\n 336710: 10,\n 1316: 10,\n 323: 10,\n 278646: 10}"
     },
     "execution_count": 37,
     "metadata": {},
     "output_type": "execute_result"
    }
   ],
   "source": [
    "nhit_on_freq"
   ],
   "metadata": {
    "collapsed": false
   }
  },
  {
   "cell_type": "markdown",
   "source": [
    "Below here is the same analysis as above, but for Dport"
   ],
   "metadata": {
    "collapsed": false
   }
  },
  {
   "cell_type": "code",
   "execution_count": 41,
   "outputs": [],
   "source": [
    "# Port analysis\n",
    "bad_sport_df = pd.DataFrame(all_good_db['Dport'])\n",
    "\n",
    "# Fill Sport for null to 0 and convert to int\n",
    "bad_sport_df = pd.DataFrame(bad_sport_df['Dport'].fillna(value=\"0\"))\n",
    "bad_sport_df = pd.DataFrame(bad_sport_df['Dport'].apply(lambda x: int(int(x, 16))))\n"
   ],
   "metadata": {
    "collapsed": false
   }
  },
  {
   "cell_type": "code",
   "execution_count": 50,
   "outputs": [
    {
     "data": {
      "text/plain": "<Figure size 864x504 with 1 Axes>",
      "image/png": "[encoded data removed]"
     },
     "metadata": {
      "needs_background": "light"
     },
     "output_type": "display_data"
    }
   ],
   "source": [
    "n_of_ports = 50\n",
    "plt.figure(figsize=(12, 7))\n",
    "\n",
    "freq_bad = bad_sport_df['Dport'].value_counts()\n",
    "red_freq_bad = freq_bad[0:n_of_ports]\n",
    "\n",
    "coloured_bars_bad = []\n",
    "nhit_on_freq_bad = {}\n",
    "\n",
    "for _, ruleset in ruleset_df.iterrows():\n",
    "    #print(ruleset)\n",
    "    for port in red_freq_bad.index:\n",
    "        if ruleset['Dport_greater'] is None:\n",
    "            continue\n",
    "        if not port in nhit_on_freq_bad.keys():\n",
    "            nhit_on_freq_bad[port] = 0\n",
    "        if ruleset['Dport_greater']:\n",
    "            if port > ruleset['Dport_threshold']:\n",
    "                nhit_on_freq_bad[port] += 1\n",
    "        if not ruleset['Dport_greater']:\n",
    "            if port > ruleset['Dport_threshold']:\n",
    "                nhit_on_freq_bad[port] += 1\n",
    "\n",
    "#TODO In the future, distinguish by number of hits\n",
    "\n",
    "for k in nhit_on_freq_bad.keys():\n",
    "    if nhit_on_freq_bad[k] > 0:\n",
    "        coloured_bars_bad.append(k)\n",
    "\n",
    "bad_color = [{f not in nhit_on_freq_bad.keys(): 'blue',\n",
    "              nhit_on_freq_bad[f] == 4: 'orange',\n",
    "              nhit_on_freq_bad[f] == 5: 'red',\n",
    "              nhit_on_freq_bad[f] == 0: 'blue',\n",
    "              }[True] for f in red_freq_bad.index]\n",
    "\n",
    "red_freq_bad.plot.bar(color=bad_color)\n",
    "plt.show()"
   ],
   "metadata": {
    "collapsed": false
   }
  },
  {
   "cell_type": "code",
   "execution_count": 43,
   "outputs": [
    {
     "data": {
      "text/plain": "{83: 4,\n 78691: 5,\n 128: 4,\n 102531: 5,\n 1091: 5,\n 8977: 5,\n 26753: 5,\n 8618: 5,\n 274567: 5,\n 20392: 5,\n 291: 5,\n 0: 0,\n 16120: 5,\n 406864: 5,\n 74004: 5,\n 2: 0,\n 2451: 5,\n 19032: 5,\n 140802: 5,\n 234353: 5,\n 353: 5,\n 332819: 5,\n 37664: 5,\n 102785: 5,\n 311: 5,\n 102773: 5,\n 59210: 5,\n 208947: 5,\n 26761: 5,\n 32896: 5,\n 60746: 5,\n 33: 4,\n 103576: 5,\n 37: 4,\n 272: 5,\n 22840: 5,\n 12584: 5,\n 217672: 5,\n 57626: 5,\n 13193: 5,\n 278646: 5,\n 905: 5,\n 34: 4,\n 366663: 5,\n 90113: 5,\n 333126: 5,\n 1063: 5,\n 403552: 5,\n 12582: 5,\n 5699: 5}"
     },
     "execution_count": 43,
     "metadata": {},
     "output_type": "execute_result"
    }
   ],
   "source": [
    "nhit_on_freq_bad"
   ],
   "metadata": {
    "collapsed": false
   }
  },
  {
   "cell_type": "code",
   "execution_count": null,
   "outputs": [],
   "source": [],
   "metadata": {
    "collapsed": false
   }
  }
 ],
 "metadata": {
  "kernelspec": {
   "display_name": "Python 3",
   "language": "python",
   "name": "python3"
  },
  "language_info": {
   "codemirror_mode": {
    "name": "ipython",
    "version": 2
   },
   "file_extension": ".py",
   "mimetype": "text/x-python",
   "name": "python",
   "nbconvert_exporter": "python",
   "pygments_lexer": "ipython2",
   "version": "2.7.6"
  }
 },
 "nbformat": 4,
 "nbformat_minor": 0
}
